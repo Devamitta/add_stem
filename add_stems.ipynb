{
 "cells": [
  {
   "cell_type": "code",
   "execution_count": null,
   "metadata": {},
   "outputs": [],
   "source": [
    "import pandas as pd\n",
    "import re\n",
    "\n",
    "# from pandas_ods_reader import read_ods\n",
    "# from ods_to_csv import convert_dps_ods_to_csv\n",
    "# convert_dps_ods_to_csv()\n",
    "\n",
    "df_dps = pd.read_csv(\"/home/deva/Documents/pali/dps.csv\", sep=\"\\t\", dtype= str)\n",
    "df_dps.fillna(\"\", inplace=True)\n",
    "\n",
    "# remove numbers\n",
    "df_dps['Pāli1'] = df_dps['Pāli1'].str.replace('\\d+', '')\n",
    "df_dps['Pāli1'] = df_dps['Pāli1'].str.replace(' $', '')"
   ]
  },
  {
   "cell_type": "code",
   "execution_count": null,
   "metadata": {},
   "outputs": [],
   "source": [
    "# \"i adj\"\n",
    "test1 = df_dps['POS'] == \"adj\"\n",
    "test2 = df_dps['Pāli1'].str.endswith('i')\n",
    "filter = test1 & test2\n",
    "df_dps.loc[filter, ['Pattern']] = \"i adj\"\n",
    "df_dps.loc[filter, ['Stem']] = df_dps['Pāli1'].str.rstrip('i')"
   ]
  },
  {
   "cell_type": "code",
   "execution_count": null,
   "metadata": {},
   "outputs": [],
   "source": [
    "# \"ī adj\"\n",
    "test1 = df_dps['POS'] == \"adj\"\n",
    "test2 = df_dps['Pāli1'].str.endswith('ī')\n",
    "filter = test1 & test2\n",
    "df_dps.loc[filter, ['Pattern']] = \"ī adj\"\n",
    "df_dps.loc[filter, ['Stem']] = df_dps['Pāli1'].str.rstrip('ī')"
   ]
  },
  {
   "cell_type": "code",
   "execution_count": null,
   "metadata": {},
   "outputs": [],
   "source": [
    "# \"u adj\"\n",
    "test1 = df_dps['POS'] == \"adj\"\n",
    "test2 = df_dps['Pāli1'].str.endswith('u')\n",
    "filter = test1 & test2\n",
    "df_dps.loc[filter, ['Pattern']] = \"u adj\"\n",
    "df_dps.loc[filter, ['Stem']] = df_dps['Pāli1'].str.rstrip('u')"
   ]
  },
  {
   "cell_type": "code",
   "execution_count": null,
   "metadata": {},
   "outputs": [],
   "source": [
    "# \"ū adj\"\n",
    "test1 = df_dps['POS'] == \"adj\"\n",
    "test2 = df_dps['Pāli1'].str.endswith('ū')\n",
    "filter = test1 & test2\n",
    "df_dps.loc[filter, ['Pattern']] = \"ū adj\"\n",
    "df_dps.loc[filter, ['Stem']] = df_dps['Pāli1'].str.rstrip('ū')"
   ]
  },
  {
   "cell_type": "code",
   "execution_count": null,
   "metadata": {},
   "outputs": [],
   "source": [
    "# \"a adj\"\n",
    "test1 = df_dps['POS'] == \"adj\"\n",
    "test2 = df_dps['Pāli1'].str.endswith('a')\n",
    "filter = test1 & test2\n",
    "df_dps.loc[filter, ['Pattern']] = \"a adj\"\n",
    "df_dps.loc[filter, ['Stem']] = df_dps['Pāli1'].str.rstrip('a')"
   ]
  },
  {
   "cell_type": "code",
   "execution_count": null,
   "metadata": {},
   "outputs": [],
   "source": [
    "# \"anta adj\"\n",
    "test1 = df_dps['POS'] == \"adj\"\n",
    "test2 = df_dps['Pāli1'].str.endswith('ahā')\n",
    "filter = test1 & test2\n",
    "df_dps.loc[filter, ['Pattern']] = \"anta adj\"\n",
    "df_dps.loc[filter, ['Stem']] = df_dps['Pāli1'].str.rstrip('ā')\n",
    "\n",
    "test3 = df_dps['Pāli1'].str.endswith('mahanta')\n",
    "filter = test1 & test3\n",
    "df_dps.loc[filter, ['Pattern']] = \"anta adj\"\n",
    "df_dps.loc[filter, ['Stem']] = df_dps['Pāli1'].str.rstrip('anta')"
   ]
  },
  {
   "cell_type": "code",
   "execution_count": null,
   "metadata": {},
   "outputs": [],
   "source": [
    "# \"anta ant\"\n",
    "test1 = df_dps['POS'] == \"adj\"\n",
    "test2 = df_dps['Pāli1'].str.endswith('ant')\n",
    "filter = test1 & test2\n",
    "df_dps.loc[filter, ['Pattern']] = \"ant adj\"\n",
    "df_dps.loc[filter, ['Stem']] = df_dps['Pāli1'].str.rstrip('ant')"
   ]
  },
  {
   "cell_type": "code",
   "execution_count": null,
   "metadata": {},
   "outputs": [],
   "source": [
    "# \"aka adj\"\n",
    "test1 = df_dps['POS'] == \"adj\"\n",
    "test2 = df_dps['Pāli1'].str.contains(\"(acchodaka)|(agghanaka)|(āhārasamuṭṭhāpaka)|(alāmaka)|(anissāmanaka)|(aññātaka)|(aññātaka)|(anukampaka)|(anuvattaka)|(apāpaka)|(apāpaka)|(appamattaka)|(appamattika)|(asahāyaka)|(atikkantamānusaka)|(bhaddaka)|(bhūmaka)|(edisaka)|(ettaka)|(issāmanaka)|(jīvakambavanaka)|(kalyāṇapāpaka)|(khuddaka)|(kīḷanaka)|(lāmaka)|(mahallaka)|(mahallaka)|(mānusaka)|(mānusikā)|(missaka)|(nibbānasampāpaka)|(niratthaka)|(ojavanaka)|(pamāṇaka)|(pāpaka)|(pāpaka)|(pāpaka)|(pāpikā)|(paridīpaka)|(sāmaggiguṇaparidīpika)|(sampāpaka)|(samuṭṭhāpaka)|(sāraṇīyadhammapūraka)|(sātodaka)|(sātthaka)|(sātthaka)|(sītodaka)|(supāpaka)|(tādisaka)|(tebhūmaka)|(thokaka)|(ujjavanaka)|(vihesaka)|(yādisaka)|(yattaka)\")\n",
    "test3 = df_dps['Pāli1'].str.contains('aka$|ikā$')\n",
    "filter = test1 & test2 & test3\n",
    "df_dps.loc[filter, ['Pattern']] = \"aka adj\"\n",
    "df_dps.loc[filter, ['Stem']] = df_dps['Pāli1'].map(lambda x: str(x)[:-3])"
   ]
  },
  {
   "cell_type": "code",
   "execution_count": null,
   "metadata": {},
   "outputs": [],
   "source": [
    "# \"anta adj\"\n",
    "test1 = df_dps['POS'] == \"adj\"\n",
    "test2 = df_dps['Pāli1'].str.contains(\"mahā$|mahanta$|brahā$\")\n",
    "filter = test1 & test2\n",
    "df_dps.loc[filter, ['Pattern']] = \"anta adj\"\n",
    "df_dps.loc[filter, ['Stem']] = df_dps['Pāli1'].map(lambda x: str(x)[:-1])"
   ]
  },
  {
   "cell_type": "code",
   "execution_count": null,
   "metadata": {},
   "outputs": [],
   "source": [
    "# \"santa adj\"\n",
    "test1 = df_dps['POS'] == \"adj\"\n",
    "test2 = df_dps['Pāli1'].str.contains(\"santa$\")\n",
    "filter = test1 & test2\n",
    "df_dps.loc[filter, ['Pattern']] = \"santa adj\"\n",
    "df_dps.loc[filter, ['Stem']] = df_dps['Pāli1'].map(lambda x: str(x)[:-1])"
   ]
  },
  {
   "cell_type": "code",
   "execution_count": null,
   "metadata": {},
   "outputs": [],
   "source": [
    "# \"aī adj\"\n",
    "test1 = df_dps['POS'] == \"adj\"\n",
    "test2 = df_dps['Pāli1'].str.contains(\"abhisajjana$|ādisa$|amānusa$|aññādisa$|anuvattana$|asādisa$|asakkonta$|cakkhukaraṇa$|cārudassana$|dada$|dalidda$|daḷidda$|dhutta$|edisa$|etādisa$|evarūpa$|īdisa$|janana$|kāḷa$|kalyāṇa$|kalyāṇa$|kīdisa$|kīrisa$|komāra$|mādisa$|mahattara$|mānusa$|ñāṇakaraṇa$|ñāṇakaraṇī$|paññādada$|parābhisajjanī$|sādisa$|sahassa$|sahassī$|sakkonta$|samaggakaraṇa$|sandana$|santāraṇa$|sassamaṇabrāhmaṇa$|sotasandana$|tādisa$|taruṇa$|tathārūpa$|tathārūpa$|thera$|viññāpana$|yādisa\")\n",
    "filter = test1 & test2\n",
    "df_dps.loc[filter, ['Pattern']] = \"aī adj\"\n",
    "df_dps.loc[filter, ['Stem']] = df_dps['Pāli1'].map(lambda x: str(x)[:-1])\n"
   ]
  },
  {
   "cell_type": "code",
   "execution_count": null,
   "metadata": {},
   "outputs": [],
   "source": [
    "# \"eka adj\"\n",
    "test1 = df_dps['POS'] == \"adj\"\n",
    "test2 = df_dps['Pāli1'].str.contains(\"eka$\")\n",
    "test3 = df_dps['Derived from'] == \"eka\"\n",
    "test4 = df_dps['Pāli1'] == \"eka\"\n",
    "filter = test1 & test2 & test3\n",
    "df_dps.loc[filter, ['Pattern']] = \"eka adj\"\n",
    "df_dps.loc[filter, ['Stem']] = df_dps['Pāli1'].map(lambda x: str(x)[:-3])\n",
    "filter = test1 & test4\n",
    "df_dps.loc[filter, ['Pattern']] = \"eka adj\"\n",
    "df_dps.loc[filter, ['Stem']] = \"*\""
   ]
  },
  {
   "cell_type": "code",
   "execution_count": null,
   "metadata": {},
   "outputs": [],
   "source": [
    "# \"ubhaya adj\"\n",
    "test1 = df_dps['POS'] == \"adj\"\n",
    "test2 = df_dps['Pāli1'] == \"ubhaya\"\n",
    "filter = test1 & test2\n",
    "df_dps.loc[filter, ['Pattern']] = \"ubhaya adj\"\n",
    "df_dps.loc[filter, ['Stem']] = \"*\""
   ]
  },
  {
   "cell_type": "code",
   "execution_count": null,
   "metadata": {},
   "outputs": [],
   "source": [
    "# \"a ordin\"\n",
    "test1 = df_dps['POS'] == \"ordin\"\n",
    "test2 = df_dps['Pāli1'].str.endswith('a')\n",
    "filter = test1 & test2\n",
    "df_dps.loc[filter, ['Pattern']] = \"a ordin\"\n",
    "df_dps.loc[filter, ['Stem']] = df_dps['Pāli1'].str.rstrip('a')"
   ]
  },
  {
   "cell_type": "code",
   "execution_count": null,
   "metadata": {},
   "outputs": [],
   "source": [
    "# a1 card\n",
    "test1 = df_dps['POS'] == \"card\"\n",
    "test2 = df_dps['Meaning IN CONTEXT'].str.contains('five|six|seven|eight|nine|ten|eleven|twelve|thirteen|fourteen|fifteen|sixteen|seventeen|eighteen')\n",
    "test3 = df_dps['Pāli1'].str.endswith('a')\n",
    "test4 = ~df_dps['Meaning IN CONTEXT'].str.contains('hundred')\n",
    "\n",
    "filter = test1 & test2 & test3 & test4\n",
    "df_dps.loc[filter, ['Pattern']] = \"a1 card\"\n",
    "df_dps.loc[filter, ['Stem']] = df_dps['Pāli1'].str.rstrip('a')"
   ]
  },
  {
   "cell_type": "code",
   "execution_count": null,
   "metadata": {},
   "outputs": [],
   "source": [
    "# a2 card\n",
    "test1 = df_dps['POS'] == \"card\"\n",
    "test2 = df_dps['Pāli1'].str.endswith('a')\n",
    "test3 = df_dps['Meaning IN CONTEXT'].str.contains('hundred')\n",
    "\n",
    "filter = test1 & test2 & test3\n",
    "df_dps.loc[filter, ['Pattern']] = \"a2 card\"\n",
    "df_dps.loc[filter, ['Stem']] = df_dps['Pāli1'].str.rstrip('a')"
   ]
  },
  {
   "cell_type": "code",
   "execution_count": null,
   "metadata": {},
   "outputs": [],
   "source": [
    "# i card\n",
    "test1 = df_dps['POS'] == \"card\"\n",
    "test2 = ~df_dps['Grammar'].str.contains('nom|acc|instr|dat|abl|gen|loc')\n",
    "test3 = df_dps['Pāli1'].str.endswith('i')\n",
    "\n",
    "filter = test1 & test2 & test3\n",
    "df_dps.loc[filter, ['Pattern']] = \"i card\"\n",
    "df_dps.loc[filter, ['Stem']] = df_dps['Pāli1'].map(lambda x: str(x)[:-1])"
   ]
  },
  {
   "cell_type": "code",
   "execution_count": null,
   "metadata": {},
   "outputs": [],
   "source": [
    "# māna prp\n",
    "test1 = df_dps['POS'] == \"prp\"\n",
    "test2 = df_dps['Pāli1'].str.endswith('māna')\n",
    "\n",
    "filter = test1 & test2\n",
    "df_dps.loc[filter, ['Pattern']] = \"māna prp\"\n",
    "df_dps.loc[filter, ['Stem']] = df_dps['Pāli1'].map(lambda x: str(x)[:-4])"
   ]
  },
  {
   "cell_type": "code",
   "execution_count": null,
   "metadata": {},
   "outputs": [],
   "source": [
    "# anta prp\n",
    "test1 = df_dps['POS'] == \"prp\"\n",
    "test2 = df_dps['Pāli1'].str.endswith('anta')\n",
    "\n",
    "filter = test1 & test2\n",
    "df_dps.loc[filter, ['Pattern']] = \"anta prp\"\n",
    "df_dps.loc[filter, ['Stem']] = df_dps['Pāli1'].map(lambda x: str(x)[:-4])"
   ]
  },
  {
   "cell_type": "code",
   "execution_count": null,
   "metadata": {},
   "outputs": [],
   "source": [
    "# enta prp\n",
    "test1 = df_dps['POS'] == \"prp\"\n",
    "test2 = df_dps['Pāli1'].str.endswith('enta')\n",
    "\n",
    "filter = test1 & test2\n",
    "df_dps.loc[filter, ['Pattern']] = \"enta prp\"\n",
    "df_dps.loc[filter, ['Stem']] = df_dps['Pāli1'].map(lambda x: str(x)[:-4])"
   ]
  },
  {
   "cell_type": "code",
   "execution_count": null,
   "metadata": {},
   "outputs": [],
   "source": [
    "# onta prp\n",
    "test1 = df_dps['POS'] == \"prp\"\n",
    "test2 = df_dps['Pāli1'].str.endswith('onta')\n",
    "\n",
    "filter = test1 & test2\n",
    "df_dps.loc[filter, ['Pattern']] = \"onta prp\"\n",
    "df_dps.loc[filter, ['Stem']] = df_dps['Pāli1'].map(lambda x: str(x)[:-4])"
   ]
  },
  {
   "cell_type": "code",
   "execution_count": null,
   "metadata": {},
   "outputs": [],
   "source": [
    "# āna prp\n",
    "test1 = df_dps['POS'] == \"prp\"\n",
    "test2 = ~df_dps['Pāli1'].str.endswith('māna')\n",
    "test3 = df_dps['Pāli1'].str.endswith('āna')\n",
    "\n",
    "filter = test1 & test2 & test3\n",
    "df_dps.loc[filter, ['Pattern']] = \"āna prp\"\n",
    "df_dps.loc[filter, ['Stem']] = df_dps['Pāli1'].map(lambda x: str(x)[:-3])"
   ]
  },
  {
   "cell_type": "code",
   "execution_count": null,
   "metadata": {},
   "outputs": [],
   "source": [
    "# a ptp\n",
    "test1 = df_dps['POS'] == \"ptp\"\n",
    "\n",
    "filter = test1\n",
    "df_dps.loc[filter, ['Pattern']] = \"a ptp\"\n",
    "df_dps.loc[filter, ['Stem']] = df_dps['Pāli1'].map(lambda x: str(x)[:-1])"
   ]
  },
  {
   "cell_type": "code",
   "execution_count": null,
   "metadata": {},
   "outputs": [],
   "source": [
    "# a pp\n",
    "test1 = df_dps['POS'] == \"pp\"\n",
    "\n",
    "filter = test1\n",
    "df_dps.loc[filter, ['Pattern']] = \"a pp\"\n",
    "df_dps.loc[filter, ['Stem']] = df_dps['Pāli1'].map(lambda x: str(x)[:-1])"
   ]
  },
  {
   "cell_type": "code",
   "execution_count": null,
   "metadata": {},
   "outputs": [],
   "source": [
    "# a masc\n",
    "test1 = df_dps['POS'] == \"masc\"\n",
    "test2 = df_dps['Pāli1'].str.endswith('a')\n",
    "\n",
    "filter = test1 & test2\n",
    "df_dps.loc[filter, ['Pattern']] = \"a masc\"\n",
    "df_dps.loc[filter, ['Stem']] = df_dps['Pāli1'].map(lambda x: str(x)[:-1])"
   ]
  },
  {
   "cell_type": "code",
   "execution_count": null,
   "metadata": {},
   "outputs": [],
   "source": [
    "# a masc pl\n",
    "test1 = df_dps['POS'] == \"masc\"\n",
    "test2 = df_dps['Pāli1'].str.endswith('ā')\n",
    "test3 = df_dps['Grammar'].str.contains('pl')\n",
    "\n",
    "filter = test1 & test2 & test3\n",
    "df_dps.loc[filter, ['Pattern']] = \"a masc pl\"\n",
    "df_dps.loc[filter, ['Stem']] = df_dps['Pāli1'].map(lambda x: str(x)[:-1])"
   ]
  },
  {
   "cell_type": "code",
   "execution_count": null,
   "metadata": {},
   "outputs": [],
   "source": [
    "# ī masc\n",
    "test1 = df_dps['POS'] == \"masc\"\n",
    "test2 = ~df_dps['Grammar'].str.contains('loc')\n",
    "test3 = df_dps['Pāli1'].str.endswith('ī')\n",
    "\n",
    "filter = test1 & test2 & test3\n",
    "df_dps.loc[filter, ['Pattern']] = \"ī masc\"\n",
    "df_dps.loc[filter, ['Stem']] = df_dps['Pāli1'].map(lambda x: str(x)[:-1])"
   ]
  },
  {
   "cell_type": "code",
   "execution_count": null,
   "metadata": {},
   "outputs": [],
   "source": [
    "# i masc\n",
    "test1 = df_dps['POS'] == \"masc\"\n",
    "test2 = ~df_dps['Grammar'].str.contains('loc')\n",
    "test3 = df_dps['Pāli1'].str.endswith('i')\n",
    "\n",
    "filter = test1 & test2 & test3\n",
    "df_dps.loc[filter, ['Pattern']] = \"i masc\"\n",
    "df_dps.loc[filter, ['Stem']] = df_dps['Pāli1'].map(lambda x: str(x)[:-1])"
   ]
  },
  {
   "cell_type": "code",
   "execution_count": null,
   "metadata": {},
   "outputs": [],
   "source": [
    "# u masc\n",
    "test1 = df_dps['POS'] == \"masc\"\n",
    "test2 = df_dps['Pāli1'].str.endswith('u')\n",
    "\n",
    "filter = test1 & test2\n",
    "df_dps.loc[filter, ['Pattern']] = \"u masc\"\n",
    "df_dps.loc[filter, ['Stem']] = df_dps['Pāli1'].map(lambda x: str(x)[:-1])"
   ]
  },
  {
   "cell_type": "code",
   "execution_count": null,
   "metadata": {},
   "outputs": [],
   "source": [
    "# ar masc\n",
    "test1 = df_dps['POS'] == \"masc\"\n",
    "test2 = df_dps['Grammar'].str.contains('agent')\n",
    "test3 = df_dps['Pāli1'].str.endswith('ar')\n",
    "\n",
    "filter = test1 & test2 & test3\n",
    "df_dps.loc[filter, ['Pattern']] = \"ar masc\"\n",
    "df_dps.loc[filter, ['Stem']] = df_dps['Pāli1'].map(lambda x: str(x)[:-2])"
   ]
  },
  {
   "cell_type": "code",
   "execution_count": null,
   "metadata": {},
   "outputs": [],
   "source": [
    "# as masc\n",
    "test1 = df_dps['POS'] == \"masc\"\n",
    "test2 = df_dps['Pāli1'].str.endswith('as')\n",
    "\n",
    "filter = test1 & test2\n",
    "df_dps.loc[filter, ['Pattern']] = \"as masc\"\n",
    "df_dps.loc[filter, ['Stem']] = df_dps['Pāli1'].map(lambda x: str(x)[:-2])"
   ]
  },
  {
   "cell_type": "code",
   "execution_count": null,
   "metadata": {},
   "outputs": [],
   "source": [
    "# a2 masc\n",
    "test1 = df_dps['POS'] == \"masc\"\n",
    "test2 = df_dps['Grammar'].str.contains('atta group')\n",
    "test3 = ~df_dps['Grammar'].str.contains('nom|acc|instr|dat|abl|gen|loc')\n",
    "test4 = df_dps['Pāli1'].str.endswith('a')\n",
    "\n",
    "\n",
    "filter = test1 & test2 & test3 & test4\n",
    "df_dps.loc[filter, ['Pattern']] = \"a2 masc\"\n",
    "df_dps.loc[filter, ['Stem']] = df_dps['Pāli1'].map(lambda x: str(x)[:-1])"
   ]
  },
  {
   "cell_type": "code",
   "execution_count": null,
   "metadata": {},
   "outputs": [],
   "source": [
    "# ū masc\n",
    "test1 = df_dps['POS'] == \"masc\"\n",
    "test2 = df_dps['Pāli1'].str.endswith('ū')\n",
    "\n",
    "filter = test1 & test2\n",
    "df_dps.loc[filter, ['Pattern']] = \"ū masc\"\n",
    "df_dps.loc[filter, ['Stem']] = df_dps['Pāli1'].map(lambda x: str(x)[:-1])"
   ]
  },
  {
   "cell_type": "code",
   "execution_count": null,
   "metadata": {},
   "outputs": [],
   "source": [
    "# ant masc\n",
    "test1 = df_dps['POS'] == \"masc\"\n",
    "test2 = df_dps['Pāli1'].str.endswith('ant')\n",
    "\n",
    "filter = test1 & test2\n",
    "df_dps.loc[filter, ['Pattern']] = \"ant masc\"\n",
    "df_dps.loc[filter, ['Stem']] = df_dps['Pāli1'].map(lambda x: str(x)[:-3])"
   ]
  },
  {
   "cell_type": "code",
   "execution_count": null,
   "metadata": {},
   "outputs": [],
   "source": [
    "# ā fem\n",
    "test1 = df_dps['POS'] == \"fem\"\n",
    "test2 = df_dps['Pāli1'].str.endswith('ā')\n",
    "\n",
    "filter = test1 & test2\n",
    "df_dps.loc[filter, ['Pattern']] = \"ā fem\"\n",
    "df_dps.loc[filter, ['Stem']] = df_dps['Pāli1'].map(lambda x: str(x)[:-1])"
   ]
  },
  {
   "cell_type": "code",
   "execution_count": null,
   "metadata": {},
   "outputs": [],
   "source": [
    "# i fem\n",
    "test1 = df_dps['POS'] == \"fem\"\n",
    "test2 = df_dps['Pāli1'].str.endswith('i')\n",
    "\n",
    "filter = test1 & test2\n",
    "df_dps.loc[filter, ['Pattern']] = \"i fem\"\n",
    "df_dps.loc[filter, ['Stem']] = df_dps['Pāli1'].map(lambda x: str(x)[:-1])"
   ]
  },
  {
   "cell_type": "code",
   "execution_count": null,
   "metadata": {},
   "outputs": [],
   "source": [
    "# ī fem\n",
    "test1 = df_dps['POS'] == \"fem\"\n",
    "test2 = df_dps['Pāli1'].str.endswith('ī')\n",
    "\n",
    "filter = test1 & test2\n",
    "df_dps.loc[filter, ['Pattern']] = \"ī fem\"\n",
    "df_dps.loc[filter, ['Stem']] = df_dps['Pāli1'].map(lambda x: str(x)[:-1])"
   ]
  },
  {
   "cell_type": "code",
   "execution_count": null,
   "metadata": {},
   "outputs": [],
   "source": [
    "# u fem\n",
    "test1 = df_dps['POS'] == \"fem\"\n",
    "test2 = df_dps['Pāli1'].str.endswith('u')\n",
    "\n",
    "filter = test1 & test2\n",
    "df_dps.loc[filter, ['Pattern']] = \"u fem\"\n",
    "df_dps.loc[filter, ['Stem']] = df_dps['Pāli1'].map(lambda x: str(x)[:-1])"
   ]
  },
  {
   "cell_type": "code",
   "execution_count": null,
   "metadata": {},
   "outputs": [],
   "source": [
    "# ar fem\n",
    "test1 = df_dps['POS'] == \"fem\"\n",
    "test2 = df_dps['Pāli1'].str.endswith('ar')\n",
    "\n",
    "filter = test1 & test2\n",
    "df_dps.loc[filter, ['Pattern']] = \"ar fem\"\n",
    "df_dps.loc[filter, ['Stem']] = df_dps['Pāli1'].map(lambda x: str(x)[:-2])"
   ]
  },
  {
   "cell_type": "code",
   "execution_count": null,
   "metadata": {},
   "outputs": [],
   "source": [
    "# a nt\n",
    "test1 = df_dps['POS'] == \"nt\"\n",
    "test2 = df_dps['Pāli1'].str.endswith('a')\n",
    "\n",
    "filter = test1 & test2\n",
    "df_dps.loc[filter, ['Pattern']] = \"a nt\"\n",
    "df_dps.loc[filter, ['Stem']] = df_dps['Pāli1'].map(lambda x: str(x)[:-1])"
   ]
  },
  {
   "cell_type": "code",
   "execution_count": null,
   "metadata": {},
   "outputs": [],
   "source": [
    "# u nt\n",
    "test1 = df_dps['POS'] == \"nt\"\n",
    "test2 = df_dps['Pāli1'].str.endswith('u')\n",
    "\n",
    "filter = test1 & test2\n",
    "df_dps.loc[filter, ['Pattern']] = \"u nt\"\n",
    "df_dps.loc[filter, ['Stem']] = df_dps['Pāli1'].map(lambda x: str(x)[:-1])\n"
   ]
  },
  {
   "cell_type": "code",
   "execution_count": null,
   "metadata": {},
   "outputs": [],
   "source": [
    "# i nt\n",
    "test1 = df_dps['POS'] == \"nt\"\n",
    "test2 = df_dps['Pāli1'].str.endswith('i')\n",
    "test3 = ~df_dps['Grammar'].str.contains('pl')\n",
    "\n",
    "filter = test1 & test2 & test3\n",
    "df_dps.loc[filter, ['Pattern']] = \"i nt\"\n",
    "df_dps.loc[filter, ['Stem']] = df_dps['Pāli1'].map(lambda x: str(x)[:-1])"
   ]
  },
  {
   "cell_type": "code",
   "execution_count": null,
   "metadata": {},
   "outputs": [],
   "source": [
    "# ati pr\n",
    "test1 = df_dps['POS'] == \"pr\"\n",
    "test2 = df_dps['Pāli1'].str.endswith('ati')\n",
    "\n",
    "filter = test1 & test2\n",
    "df_dps.loc[filter, ['Pattern']] = \"ati pr\"\n",
    "df_dps.loc[filter, ['Stem']] = df_dps['Pāli1'].map(lambda x: str(x)[:-3])"
   ]
  },
  {
   "cell_type": "code",
   "execution_count": null,
   "metadata": {},
   "outputs": [],
   "source": [
    "# eti pr\n",
    "test1 = df_dps['POS'] == \"pr\"\n",
    "test2 = df_dps['Pāli1'].str.endswith('eti')\n",
    "\n",
    "filter = test1 & test2\n",
    "df_dps.loc[filter, ['Pattern']] = \"eti pr\"\n",
    "df_dps.loc[filter, ['Stem']] = df_dps['Pāli1'].map(lambda x: str(x)[:-3])"
   ]
  },
  {
   "cell_type": "code",
   "execution_count": null,
   "metadata": {},
   "outputs": [],
   "source": [
    "# āti pr\n",
    "test1 = df_dps['POS'] == \"pr\"\n",
    "test2 = df_dps['Pāli1'].str.endswith('āti')\n",
    "\n",
    "filter = test1 & test2\n",
    "df_dps.loc[filter, ['Pattern']] = \"āti pr\"\n",
    "df_dps.loc[filter, ['Stem']] = df_dps['Pāli1'].map(lambda x: str(x)[:-3])"
   ]
  },
  {
   "cell_type": "code",
   "execution_count": null,
   "metadata": {},
   "outputs": [],
   "source": [
    "# oti pr\n",
    "test1 = df_dps['POS'] == \"pr\"\n",
    "test2 = df_dps['Pāli1'].str.endswith('oti')\n",
    "\n",
    "filter = test1 & test2\n",
    "df_dps.loc[filter, ['Pattern']] = \"oti pr\"\n",
    "df_dps.loc[filter, ['Stem']] = df_dps['Pāli1'].map(lambda x: str(x)[:-3])"
   ]
  },
  {
   "cell_type": "code",
   "execution_count": null,
   "metadata": {},
   "outputs": [],
   "source": [
    "# i aor\n",
    "test1 = df_dps['POS'] == \"aor\"\n",
    "test2 = df_dps['Pāli1'].str.endswith('i')\n",
    "test3 = ~df_dps['Pāli1'].str.endswith('esi')\n",
    "test4 = ~df_dps['Pāli1'].str.endswith('āsi')\n",
    "\n",
    "filter = test1 & test2 & test3 & test4\n",
    "df_dps.loc[filter, ['Pattern']] = \"i aor\"\n",
    "df_dps.loc[filter, ['Stem']] = df_dps['Pāli1'].map(lambda x: str(x)[:-1])"
   ]
  },
  {
   "cell_type": "code",
   "execution_count": null,
   "metadata": {},
   "outputs": [],
   "source": [
    "# esi aor\n",
    "test1 = df_dps['POS'] == \"aor\"\n",
    "test2 = df_dps['Pāli1'].str.endswith('esi')\n",
    "\n",
    "filter = test1 & test2\n",
    "df_dps.loc[filter, ['Pattern']] = \"esi aor\"\n",
    "df_dps.loc[filter, ['Stem']] = df_dps['Pāli1'].map(lambda x: str(x)[:-3])"
   ]
  },
  {
   "cell_type": "code",
   "execution_count": null,
   "metadata": {},
   "outputs": [],
   "source": [
    "# āsi aor\n",
    "test1 = df_dps['POS'] == \"aor\"\n",
    "test2 = df_dps['Pāli1'].str.endswith('āsi')\n",
    "\n",
    "filter = test1 & test2\n",
    "df_dps.loc[filter, ['Pattern']] = \"āsi aor\"\n",
    "df_dps.loc[filter, ['Stem']] = df_dps['Pāli1'].map(lambda x: str(x)[:-3])"
   ]
  },
  {
   "cell_type": "code",
   "execution_count": null,
   "metadata": {},
   "outputs": [],
   "source": [
    "# ā imperf\n",
    "test1 = df_dps['POS'] == \"imperf\"\n",
    "\n",
    "filter = test1\n",
    "df_dps.loc[filter, ['Pattern']] = \"ā imperf\"\n",
    "df_dps.loc[filter, ['Stem']] = df_dps['Pāli1'].map(lambda x: str(x)[:-1])"
   ]
  },
  {
   "cell_type": "code",
   "execution_count": null,
   "metadata": {},
   "outputs": [],
   "source": [
    "# issati fut\n",
    "test1 = df_dps['POS'] == \"fut\"\n",
    "test2 = df_dps['Pāli1'].str.endswith('issati')\n",
    "\n",
    "filter = test1 & test2\n",
    "df_dps.loc[filter, ['Pattern']] = \"issati fut\"\n",
    "df_dps.loc[filter, ['Stem']] = df_dps['Pāli1'].map(lambda x: str(x)[:-6])"
   ]
  },
  {
   "cell_type": "code",
   "execution_count": null,
   "metadata": {},
   "outputs": [],
   "source": [
    "# ssati fut\n",
    "test1 = df_dps['POS'] == \"fut\"\n",
    "test2 = ~df_dps['Pāli1'].str.endswith('issati')\n",
    "test3 = df_dps['Pāli1'].str.endswith('ssati')\n",
    "\n",
    "\n",
    "filter = test1 & test2 & test3\n",
    "df_dps.loc[filter, ['Pattern']] = \"ssati fut\"\n",
    "df_dps.loc[filter, ['Stem']] = df_dps['Pāli1'].map(lambda x: str(x)[:-5])"
   ]
  },
  {
   "cell_type": "code",
   "execution_count": null,
   "metadata": {},
   "outputs": [],
   "source": [
    "# ati fut\n",
    "test1 = df_dps['POS'] == \"fut\"\n",
    "test2 = ~df_dps['Pāli1'].str.endswith('issati')\n",
    "test3 = ~df_dps['Pāli1'].str.endswith('ssati')\n",
    "test4 = df_dps['Pāli1'].str.endswith('ati')\n",
    "\n",
    "\n",
    "filter = test1 & test2 & test3 & test4\n",
    "df_dps.loc[filter, ['Pattern']] = \"ati fut\"\n",
    "df_dps.loc[filter, ['Stem']] = df_dps['Pāli1'].map(lambda x: str(x)[:-3])"
   ]
  },
  {
   "cell_type": "code",
   "execution_count": null,
   "metadata": {},
   "outputs": [],
   "source": [
    "# hiti fut\n",
    "\n",
    "test1 = df_dps['POS'] == \"fut\"\n",
    "test2 = df_dps['Pāli1'].str.endswith('hiti')\n",
    "\n",
    "filter = test1 & test2\n",
    "df_dps.loc[filter, ['Pattern']] = \"hiti fut\"\n",
    "df_dps.loc[filter, ['Stem']] = df_dps['Pāli1'].map(lambda x: str(x)[:-4])"
   ]
  },
  {
   "cell_type": "code",
   "execution_count": null,
   "metadata": {},
   "outputs": [],
   "source": [
    "# issa cond\n",
    "\n",
    "test1 = df_dps['POS'] == \"cond\"\n",
    "\n",
    "filter = test1\n",
    "df_dps.loc[filter, ['Pattern']] = \"issa cond\"\n",
    "df_dps.loc[filter, ['Stem']] = df_dps['Pāli1'].map(lambda x: str(x)[:-4])"
   ]
  },
  {
   "cell_type": "code",
   "execution_count": null,
   "metadata": {},
   "outputs": [],
   "source": [
    "# save csv\n",
    "df_dps.to_csv('/home/deva/Documents/pali/test.csv', sep=\"\\t\", index=None)"
   ]
  }
 ],
 "metadata": {
  "interpreter": {
   "hash": "8a94588eda9d64d9e9a351ab8144e55b1fabf5113b54e67dd26a8c27df0381b3"
  },
  "kernelspec": {
   "display_name": "Python 3 (ipykernel)",
   "language": "python",
   "name": "python3"
  },
  "language_info": {
   "codemirror_mode": {
    "name": "ipython",
    "version": 3
   },
   "file_extension": ".py",
   "mimetype": "text/x-python",
   "name": "python",
   "nbconvert_exporter": "python",
   "pygments_lexer": "ipython3",
   "version": "3.9.9"
  }
 },
 "nbformat": 4,
 "nbformat_minor": 2
}
